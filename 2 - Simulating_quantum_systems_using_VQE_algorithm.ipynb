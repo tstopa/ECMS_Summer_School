{
 "cells": [
  {
   "cell_type": "code",
   "execution_count": 1,
   "id": "373aca2e-8bcb-4df3-a6b3-897f0ab212b5",
   "metadata": {},
   "outputs": [],
   "source": [
    "import numpy as np\n",
    "from numpy.linalg import eig\n",
    "from qiskit_algorithms.optimizers import SLSQP\n",
    "from qiskit.circuit.library import TwoLocal, EfficientSU2\n",
    "from qiskit.primitives import Estimator\n",
    "from qiskit_algorithms import VQE\n",
    "from qiskit.quantum_info import Operator\n",
    "from qiskit.quantum_info import SparsePauliOp"
   ]
  },
  {
   "cell_type": "markdown",
   "id": "c72b899f-c39b-4036-b693-dbae4ce46cb3",
   "metadata": {},
   "source": [
    "### The goal of the exercise is to use quantum computer to find minimal eigenvalue of Hamiltonian. This naturally can be used to find ground state of quantum mechanical systems - like molecules."
   ]
  },
  {
   "cell_type": "markdown",
   "id": "99a32935-c643-458e-a4c2-f178921508b4",
   "metadata": {},
   "source": [
    "# Let's define the operator:"
   ]
  },
  {
   "cell_type": "code",
   "execution_count": 2,
   "id": "2e7b911c-180b-47e5-82cf-afac1b474a82",
   "metadata": {},
   "outputs": [],
   "source": [
    "hamiltonian = SparsePauliOp.from_list(\n",
    "    [(\"YZ\", 0.3980), (\"ZI\", -0.3980), (\"ZZ\", -0.0113), (\"XX\", 0.1810)]\n",
    ")"
   ]
  },
  {
   "cell_type": "code",
   "execution_count": 3,
   "id": "7e99085b-eb09-414d-82b7-bf968204d3d2",
   "metadata": {},
   "outputs": [
    {
     "name": "stdout",
     "output_type": "stream",
     "text": [
      "[[-0.4093+0.j     0.    +0.j     0.    -0.398j  0.181 +0.j   ]\n",
      " [ 0.    +0.j    -0.3867+0.j     0.181 +0.j     0.    +0.398j]\n",
      " [ 0.    +0.398j  0.181 +0.j     0.4093+0.j     0.    +0.j   ]\n",
      " [ 0.181 +0.j     0.    -0.398j  0.    +0.j     0.3867+0.j   ]]\n"
     ]
    }
   ],
   "source": [
    "H = hamiltonian.to_matrix()\n",
    "print(H)"
   ]
  },
  {
   "cell_type": "code",
   "execution_count": 4,
   "id": "d1279c51-8c8d-44d3-a8b0-318625cc8220",
   "metadata": {},
   "outputs": [
    {
     "data": {
      "text/latex": [
       "$$\n",
       "\n",
       "\\begin{bmatrix}\n",
       "-0.4093 & 0 & - 0.398 i & 0.181  \\\\\n",
       " 0 & - \\frac{2^{\\frac{289}{993}} \\cdot 3^{\\frac{61}{331}} \\cdot 5^{\\frac{203}{993}} \\cdot 7^{\\frac{134}{993}}}{7} & 0.181 & 0.398 i  \\\\\n",
       " 0.398 i & 0.181 & 0.4093 & 0  \\\\\n",
       " 0.181 & - 0.398 i & 0 & \\frac{2^{\\frac{289}{993}} \\cdot 3^{\\frac{61}{331}} \\cdot 5^{\\frac{203}{993}} \\cdot 7^{\\frac{134}{993}}}{7}  \\\\\n",
       " \\end{bmatrix}\n",
       "$$"
      ],
      "text/plain": [
       "<IPython.core.display.Latex object>"
      ]
     },
     "execution_count": 4,
     "metadata": {},
     "output_type": "execute_result"
    }
   ],
   "source": [
    "hamiltonian_operator = Operator(hamiltonian)\n",
    "hamiltonian_operator.draw(output='latex')"
   ]
  },
  {
   "cell_type": "markdown",
   "id": "7cd7def1-4745-49c6-98f7-b4572c824663",
   "metadata": {},
   "source": [
    "# Let's find eigenvalues using classical numpy linear algebra package:"
   ]
  },
  {
   "cell_type": "code",
   "execution_count": 5,
   "id": "6ab1500c-0144-4648-867c-9366cb9b571d",
   "metadata": {},
   "outputs": [
    {
     "name": "stdout",
     "output_type": "stream",
     "text": [
      "Eigenvalues: [-0.70293039+6.24707871e-18j -0.45308083-7.57079461e-17j\n",
      "  0.70293039-6.06797210e-18j  0.45308083+3.47628378e-17j]\n",
      "Eigenvectors:\n",
      " [[ 6.49638715e-01+0.00000000e+00j -1.13885050e-18+6.65864932e-01j\n",
      "   7.01111754e-18-3.30320834e-01j -1.59629506e-01-4.32331142e-17j]\n",
      " [-2.91446790e-16+6.01307531e-01j  7.03606721e-01+0.00000000e+00j\n",
      "   3.27546851e-01-2.90500924e-17j -2.28717515e-17+1.89947086e-01j]\n",
      " [-3.02255009e-17-3.30320834e-01j  1.59629506e-01+8.31587415e-17j\n",
      "   6.49638715e-01+0.00000000e+00j  1.18760305e-16-6.65864932e-01j]\n",
      " [-3.27546851e-01-1.37383111e-16j -1.35473761e-17+1.89947086e-01j\n",
      "  -1.69472202e-17-6.01307531e-01j  7.03606721e-01+0.00000000e+00j]]\n"
     ]
    }
   ],
   "source": [
    "e,v=eig(H)\n",
    "print(\"Eigenvalues:\", e)\n",
    "print(\"Eigenvectors:\\n\", v)"
   ]
  },
  {
   "cell_type": "markdown",
   "id": "177bbd32-9a8e-47bd-ae86-622946a6d656",
   "metadata": {},
   "source": [
    "# ...or even find smallest eigenvalue with Qiskit wrapper over classical numpy eigensolver:"
   ]
  },
  {
   "cell_type": "code",
   "execution_count": 6,
   "id": "a578232e-81a4-4c96-af40-9b6fc3b590ad",
   "metadata": {},
   "outputs": [
    {
     "name": "stdout",
     "output_type": "stream",
     "text": [
      "-0.702930394459531\n"
     ]
    }
   ],
   "source": [
    "from qiskit_algorithms import NumPyMinimumEigensolver\n",
    "\n",
    "numpy_solver = NumPyMinimumEigensolver()\n",
    "result = numpy_solver.compute_minimum_eigenvalue(operator=hamiltonian)\n",
    "minimal_eigenvalue = result.eigenvalue.real\n",
    "print(minimal_eigenvalue)"
   ]
  },
  {
   "cell_type": "markdown",
   "id": "625fc72f-09ab-4f6c-9d73-8bd611586d90",
   "metadata": {},
   "source": [
    "# Now, let's use Estimator to calculate expectation value of the operator for random choise of parameters:"
   ]
  },
  {
   "cell_type": "code",
   "execution_count": 7,
   "id": "8c88de40-1ff3-460e-964a-2f45fe579a5c",
   "metadata": {},
   "outputs": [],
   "source": [
    "ansatz = EfficientSU2(hamiltonian.num_qubits)"
   ]
  },
  {
   "cell_type": "code",
   "execution_count": 8,
   "id": "6c401f86-b126-4d4f-9d0a-99a961036c28",
   "metadata": {},
   "outputs": [
    {
     "data": {
      "image/png": "[encoded data removed]",
      "text/plain": [
       "<Figure size 1039.79x200.667 with 1 Axes>"
      ]
     },
     "execution_count": 8,
     "metadata": {},
     "output_type": "execute_result"
    }
   ],
   "source": [
    "ansatz.decompose().draw(\"mpl\")"
   ]
  },
  {
   "cell_type": "code",
   "execution_count": 9,
   "id": "e9024947-3174-4201-a2bc-3ad7f0072722",
   "metadata": {},
   "outputs": [
    {
     "name": "stdout",
     "output_type": "stream",
     "text": [
      "16\n"
     ]
    }
   ],
   "source": [
    "num_params = ansatz.num_parameters\n",
    "print(num_params)"
   ]
  },
  {
   "cell_type": "code",
   "execution_count": 10,
   "id": "129d76f4-d3be-4e16-8f11-38ecd5e5c483",
   "metadata": {},
   "outputs": [
    {
     "name": "stdout",
     "output_type": "stream",
     "text": [
      "2\n"
     ]
    }
   ],
   "source": [
    "print(hamiltonian.num_qubits)"
   ]
  },
  {
   "cell_type": "code",
   "execution_count": 16,
   "id": "678740fa-0e77-405e-8889-17eea5695d18",
   "metadata": {},
   "outputs": [
    {
     "name": "stdout",
     "output_type": "stream",
     "text": [
      "0.209131561773395\n"
     ]
    }
   ],
   "source": [
    "estimator = Estimator()\n",
    "initial_parameters = 2 * np.pi * np.random.random(num_params)\n",
    "minimal_eigenvalue=estimator.run(ansatz, hamiltonian, parameter_values=initial_parameters).result().values[0]\n",
    "print(minimal_eigenvalue)"
   ]
  },
  {
   "cell_type": "markdown",
   "id": "568cfc80-77dd-4588-bf0c-b01247d39935",
   "metadata": {},
   "source": [
    "You can run the above cell several times to randomly choose set of parameters and calculate the corresponding expectation value of the Hamiltonian in the quantum state corresponding to the parametrized ansatz (energy)."
   ]
  },
  {
   "cell_type": "markdown",
   "id": "ce53ab47-3ac9-415c-9073-a16b81d82d78",
   "metadata": {},
   "source": [
    "# Now let's use VQE algorithm to find values of parameters corresponding to the minimal expectation value of our operator and this minimal value itself (groud state energy):"
   ]
  },
  {
   "cell_type": "code",
   "execution_count": 17,
   "id": "0d287ec2-6fae-4f34-b1dc-b2563f284cae",
   "metadata": {},
   "outputs": [],
   "source": [
    "optimizer = SLSQP(maxiter=1000)"
   ]
  },
  {
   "cell_type": "code",
   "execution_count": 18,
   "id": "d62c2ee9-c9de-4c37-90b3-ad324c066c55",
   "metadata": {},
   "outputs": [],
   "source": [
    "vqe = VQE(estimator, ansatz, optimizer)"
   ]
  },
  {
   "cell_type": "code",
   "execution_count": 19,
   "id": "80533a5a-e00d-406f-b180-70dd524f794a",
   "metadata": {},
   "outputs": [
    {
     "name": "stdout",
     "output_type": "stream",
     "text": [
      "{   'aux_operators_evaluated': None,\n",
      "    'cost_function_evals': 170,\n",
      "    'eigenvalue': -0.7029293957772695,\n",
      "    'optimal_circuit': <qiskit.circuit.library.n_local.efficient_su2.EfficientSU2 object at 0x000001C8D9CAA810>,\n",
      "    'optimal_parameters': {   ParameterVectorElement(θ[0]): -0.3669748517507131,\n",
      "                              ParameterVectorElement(θ[2]): 0.4516397536007124,\n",
      "                              ParameterVectorElement(θ[1]): 0.3562617135700139,\n",
      "                              ParameterVectorElement(θ[3]): 2.774249866896796,\n",
      "                              ParameterVectorElement(θ[4]): 1.4116100152603723,\n",
      "                              ParameterVectorElement(θ[5]): -1.6575396229141246,\n",
      "                              ParameterVectorElement(θ[6]): 2.5222872131398284,\n",
      "                              ParameterVectorElement(θ[7]): 3.0126951042834036,\n",
      "                              ParameterVectorElement(θ[8]): 0.1250294863739623,\n",
      "                              ParameterVectorElement(θ[9]): 0.9801708885240767,\n",
      "                              ParameterVectorElement(θ[10]): 1.9633161662737895,\n",
      "                              ParameterVectorElement(θ[11]): -0.6930425611368882,\n",
      "                              ParameterVectorElement(θ[12]): 0.6340918104788595,\n",
      "                              ParameterVectorElement(θ[13]): -2.3474804751381972,\n",
      "                              ParameterVectorElement(θ[14]): 2.9226922252169745,\n",
      "                              ParameterVectorElement(θ[15]): -0.1689056908747326},\n",
      "    'optimal_point': array([-0.36697485,  0.35626171,  0.45163975,  2.77424987,  1.41161002,\n",
      "       -1.65753962,  2.52228721,  3.0126951 ,  0.12502949,  0.98017089,\n",
      "        1.96331617, -0.69304256,  0.63409181, -2.34748048,  2.92269223,\n",
      "       -0.16890569]),\n",
      "    'optimal_value': -0.7029293957772695,\n",
      "    'optimizer_evals': None,\n",
      "    'optimizer_result': <qiskit_algorithms.optimizers.optimizer.OptimizerResult object at 0x000001C8D9C38750>,\n",
      "    'optimizer_time': 1.3240199089050293}\n"
     ]
    }
   ],
   "source": [
    "result = vqe.compute_minimum_eigenvalue(hamiltonian)\n",
    "print(result)"
   ]
  },
  {
   "cell_type": "markdown",
   "id": "8cce3097-8b86-49ad-b9aa-21ae091dd7bb",
   "metadata": {},
   "source": [
    "The idea of using quantum computer here is that using $n$ qubits we can find eigenvalues of matices with size $2^n$, so potentially we can simulate much larger quatum systems that with classical computers which will break very quickly on the $2^n$ scale."
   ]
  },
  {
   "cell_type": "markdown",
   "id": "a73101ff-df61-4ea7-9c91-a0de374c446b",
   "metadata": {},
   "source": [
    "# Exercise 1\n",
    "Change the ansatz to the below one, visualize it and check how if the eigenvalue is still correctly found:"
   ]
  },
  {
   "cell_type": "code",
   "execution_count": 157,
   "id": "f2c96372-8e82-4867-b200-4cd9abc97225",
   "metadata": {},
   "outputs": [],
   "source": [
    "new_ansatz = TwoLocal(num_qubits, \"ry\", \"cz\")"
   ]
  },
  {
   "cell_type": "markdown",
   "id": "9a492b49-546b-43b7-a959-35f7b3102061",
   "metadata": {},
   "source": [
    "# Exercise 2:\n",
    "Using VQE algorithm calculate ground state energy of hydrogen molecule described by the below Hamiltonian.\\\n",
    "Use the first ansatz we used above - not the one from Exercise 1 ;)\\\n",
    "Is the result correct?"
   ]
  },
  {
   "cell_type": "code",
   "execution_count": 153,
   "id": "23bc399a-e80d-4c12-a7c2-ae885245b41c",
   "metadata": {},
   "outputs": [],
   "source": [
    "H2_op = SparsePauliOp.from_list(\n",
    "    [\n",
    "        (\"II\", -1.052373245772859),\n",
    "        (\"IZ\", 0.39793742484318045),\n",
    "        (\"ZI\", -0.39793742484318045),\n",
    "        (\"ZZ\", -0.01128010425623538),\n",
    "        (\"XX\", 0.18093119978423156),\n",
    "    ]\n",
    ")"
   ]
  },
  {
   "cell_type": "markdown",
   "id": "e1fb7302-f711-4dfe-9150-148f64742ad0",
   "metadata": {},
   "source": [
    "# Proposition for the evening ;)\n",
    "\n",
    "Run the VQE algorithm finding groud state energy of $H_2$ molecule on real quantum computer.\\\n",
    "Check how the minimal eigenvalue differs from the one obtained on simulator.\n",
    "\n",
    "For references and to read more, you can explore the tutorials in Qiskit documentation - like this one:\\\n",
    "https://qiskit-community.github.io/qiskit-algorithms/tutorials/03_vqe_simulation_with_noise.html"
   ]
  }
 ],
 "metadata": {
  "kernelspec": {
   "display_name": "Python 3 (ipykernel)",
   "language": "python",
   "name": "python3"
  },
  "language_info": {
   "codemirror_mode": {
    "name": "ipython",
    "version": 3
   },
   "file_extension": ".py",
   "mimetype": "text/x-python",
   "name": "python",
   "nbconvert_exporter": "python",
   "pygments_lexer": "ipython3",
   "version": "3.11.4"
  }
 },
 "nbformat": 4,
 "nbformat_minor": 5
}
